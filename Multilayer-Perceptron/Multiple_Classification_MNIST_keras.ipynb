{
  "nbformat": 4,
  "nbformat_minor": 0,
  "metadata": {
    "colab": {
      "provenance": [],
      "toc_visible": true,
      "authorship_tag": "ABX9TyOKCls4mAPOFcZzpQfAnDp+",
      "include_colab_link": true
    },
    "kernelspec": {
      "name": "python3",
      "display_name": "Python 3"
    },
    "language_info": {
      "name": "python"
    }
  },
  "cells": [
    {
      "cell_type": "markdown",
      "metadata": {
        "id": "view-in-github",
        "colab_type": "text"
      },
      "source": [
        "<a href=\"https://colab.research.google.com/github/Alejandro-ZZ/Deep-Learning/blob/master/Multilayer-Perceptron/2_Multiple_Classification_MNIST_keras.ipynb\" target=\"_parent\"><img src=\"https://colab.research.google.com/assets/colab-badge.svg\" alt=\"Open In Colab\"/></a>"
      ]
    },
    {
      "cell_type": "markdown",
      "source": [
        "# Multiple Classification | Keras\n",
        "\n",
        "* Using MNIST dataset (numbers from 0 to 9)\n",
        "* Multiple classification"
      ],
      "metadata": {
        "id": "tQ3RiQ37UdwV"
      }
    },
    {
      "cell_type": "code",
      "execution_count": 43,
      "metadata": {
        "id": "vQ02CPQoHImW"
      },
      "outputs": [],
      "source": [
        "from keras.datasets import mnist\n",
        "from keras import layers, models\n",
        "from keras.utils import to_categorical\n",
        "\n",
        "import numpy as np\n",
        "import matplotlib.pyplot as plt\n",
        "import time"
      ]
    },
    {
      "cell_type": "markdown",
      "source": [
        "## **MNIST Dataset**\n",
        "\n",
        "This is a dataset of 60,000 28x28 grayscale images of the 10 digits, along with a test set of 10,000 images. More info can be found at the [MNIST homepage](http://yann.lecun.com/exdb/mnist/).<br><br>\n",
        "\n",
        "1. **TRAIN SET**\n",
        "\n",
        "  - **data:** uint8 NumPy array of grayscale image data with shapes (60000, 28, 28), containing the training data. Pixel values range from 0 to 255.\n",
        "\n",
        "  - **labels:** uint8 NumPy array of digit labels (integers in range 0-9) with shape (60000,) for the training data.\n",
        "\n",
        "\n",
        "2. **TEST SET**\n",
        "  - **data:** uint8 NumPy array of grayscale image data with shapes (10000, 28, 28), containing the test data. Pixel values range from 0 to 255.\n",
        "\n",
        "  - **labels:** uint8 NumPy array of digit labels (integers in range 0-9) with shape (10000,) for the test data."
      ],
      "metadata": {
        "id": "IsvyStkAUNOG"
      }
    },
    {
      "cell_type": "code",
      "source": [
        "(train_data, train_labels), (test_data, test_labels) = mnist.load_data()\n",
        "\n",
        "print('TRAIN SET:')\n",
        "print(f'      data: {train_data.shape}')\n",
        "print(f'    labels: {train_labels.shape}')\n",
        "print('-'*40)\n",
        "print('TEST SET:')\n",
        "print(f'      data: {test_data.shape}')\n",
        "print(f'    labels: {test_labels.shape}')\n",
        "print('-'*40)"
      ],
      "metadata": {
        "colab": {
          "base_uri": "https://localhost:8080/"
        },
        "id": "ImLBxb96TLlx",
        "outputId": "79c6bb63-4c9d-47fb-f61f-7d632e03c0e8"
      },
      "execution_count": 8,
      "outputs": [
        {
          "output_type": "stream",
          "name": "stdout",
          "text": [
            "TRAIN SET:\n",
            "      data: (60000, 28, 28)\n",
            "    labels: (60000,)\n",
            "----------------------------------------\n",
            "TEST SET:\n",
            "      data: (10000, 28, 28)\n",
            "    labels: (10000,)\n",
            "----------------------------------------\n"
          ]
        }
      ]
    },
    {
      "cell_type": "code",
      "source": [
        "# Get random observation\n",
        "cols, rows = 6, 1\n",
        "index_list = list(np.random.randint(0, len(train_data), cols))\n",
        "\n",
        "# Display image\n",
        "figure = plt.figure(figsize=(15, 15))\n",
        "for i, index in enumerate(index_list):\n",
        "  figure.add_subplot(rows, cols, i+1)\n",
        "  plt.imshow(train_data[index], 'gray')\n",
        "  plt.title(f'Number: {train_labels[index]}')\n",
        "  plt.axis(\"off\")\n",
        "\n",
        "plt.tight_layout()\n",
        "plt.show()"
      ],
      "metadata": {
        "colab": {
          "base_uri": "https://localhost:8080/",
          "height": 214
        },
        "id": "b3YhZ8BwVl_p",
        "outputId": "58666f7e-71be-4f54-92cb-3be915bfb6a5"
      },
      "execution_count": 34,
      "outputs": [
        {
          "output_type": "display_data",
          "data": {
            "text/plain": [
              "<Figure size 1080x1080 with 6 Axes>"
            ],
            "image/png": "[encoded data removed]"
          },
          "metadata": {
            "needs_background": "light"
          }
        }
      ]
    },
    {
      "cell_type": "markdown",
      "source": [
        "## **Data cleaning**"
      ],
      "metadata": {
        "id": "Y34quF-SblVX"
      }
    },
    {
      "cell_type": "code",
      "source": [
        "x_train = train_data.reshape((60000, 28*28))\n",
        "x_train = x_train.astype('float32') / 255\n",
        "\n",
        "x_test = test_data.reshape((10000, 28*28))\n",
        "x_test = x_test.astype('float32') / 255\n",
        "\n",
        "y_train = to_categorical(train_labels)\n",
        "y_test = to_categorical(test_labels)"
      ],
      "metadata": {
        "id": "iEw7e0C2bsoO"
      },
      "execution_count": 35,
      "outputs": []
    },
    {
      "cell_type": "markdown",
      "source": [
        "## **Training params**"
      ],
      "metadata": {
        "id": "BogMx2DkbCOY"
      }
    },
    {
      "cell_type": "code",
      "source": [
        "epochs = 10\n",
        "batch_size = 128\n",
        "\n",
        "optimizer = 'rmsprop' # 'adam'\n",
        "loss_fnc = 'categorical_crossentropy'\n",
        "metrics = ['acc']"
      ],
      "metadata": {
        "id": "crzRo-4ebGDN"
      },
      "execution_count": 51,
      "outputs": []
    },
    {
      "cell_type": "markdown",
      "source": [
        "## **Model architecture**"
      ],
      "metadata": {
        "id": "0X25DEhKZzbb"
      }
    },
    {
      "cell_type": "code",
      "source": [
        "# Model's architecture\n",
        "model_layers = [layers.Dense(256, activation=\"relu\", name='Input_layer', input_shape=(28*28,)),\n",
        "                layers.Dense(128, activation=\"relu\", name='layer2'),\n",
        "                layers.Dense(64, activation=\"relu\", name='layer3'),\n",
        "                layers.Dense(10, activation='softmax', name='Output_layer')]\n",
        "\n",
        "#Compiling model\n",
        "model = models.Sequential(layers=model_layers, name='Model1')\n",
        "model.compile(optimizer=optimizer,\n",
        "              loss=loss_fnc,\n",
        "              metrics=metrics)\n",
        "print(model.summary())"
      ],
      "metadata": {
        "colab": {
          "base_uri": "https://localhost:8080/"
        },
        "id": "2ZJ6gTxUZzsP",
        "outputId": "9cbcd732-e929-46c9-b31f-ddc8071f9635"
      },
      "execution_count": 54,
      "outputs": [
        {
          "output_type": "stream",
          "name": "stdout",
          "text": [
            "Model: \"Model1\"\n",
            "_________________________________________________________________\n",
            " Layer (type)                Output Shape              Param #   \n",
            "=================================================================\n",
            " Input_layer (Dense)         (None, 256)               200960    \n",
            "                                                                 \n",
            " layer2 (Dense)              (None, 128)               32896     \n",
            "                                                                 \n",
            " layer3 (Dense)              (None, 64)                8256      \n",
            "                                                                 \n",
            " Output_layer (Dense)        (None, 10)                650       \n",
            "                                                                 \n",
            "=================================================================\n",
            "Total params: 242,762\n",
            "Trainable params: 242,762\n",
            "Non-trainable params: 0\n",
            "_________________________________________________________________\n",
            "None\n"
          ]
        }
      ]
    },
    {
      "cell_type": "markdown",
      "source": [
        "## **Training model**"
      ],
      "metadata": {
        "id": "mtaP0Ii8cJF7"
      }
    },
    {
      "cell_type": "code",
      "source": [
        "# Trining model\n",
        "start_process_time = time.time()\n",
        "# ------------------------------------------------------------------------------\n",
        "results = model.fit(x_train, y_train, \n",
        "                    epochs=epochs, \n",
        "                    batch_size=batch_size,\n",
        "                    validation_split=0.2)\n",
        "# ------------------------------------------------------------------------------\n",
        "process_time = time.time() - start_process_time\n",
        "minutes = process_time / 60\n",
        "seconds = (minutes - int(minutes)) * 60\n",
        "print(f'\\n[INFO] Total epochs: {epochs}')\n",
        "print(f\"[INFO] Training execution time: {int(minutes)}m {int(seconds)}s\\n\")"
      ],
      "metadata": {
        "colab": {
          "base_uri": "https://localhost:8080/"
        },
        "id": "IHHG6N87Zzu3",
        "outputId": "13b2d145-9d5c-43f4-f078-e8069f76ab07"
      },
      "execution_count": 55,
      "outputs": [
        {
          "output_type": "stream",
          "name": "stdout",
          "text": [
            "Epoch 1/10\n",
            "375/375 [==============================] - 4s 9ms/step - loss: 0.3072 - acc: 0.9075 - val_loss: 0.1727 - val_acc: 0.9503\n",
            "Epoch 2/10\n",
            "375/375 [==============================] - 3s 8ms/step - loss: 0.1157 - acc: 0.9643 - val_loss: 0.1175 - val_acc: 0.9657\n",
            "Epoch 3/10\n",
            "375/375 [==============================] - 3s 8ms/step - loss: 0.0760 - acc: 0.9764 - val_loss: 0.1001 - val_acc: 0.9710\n",
            "Epoch 4/10\n",
            "375/375 [==============================] - 3s 8ms/step - loss: 0.0539 - acc: 0.9834 - val_loss: 0.0896 - val_acc: 0.9751\n",
            "Epoch 5/10\n",
            "375/375 [==============================] - 3s 8ms/step - loss: 0.0403 - acc: 0.9868 - val_loss: 0.0962 - val_acc: 0.9747\n",
            "Epoch 6/10\n",
            "375/375 [==============================] - 3s 8ms/step - loss: 0.0317 - acc: 0.9902 - val_loss: 0.1036 - val_acc: 0.9754\n",
            "Epoch 7/10\n",
            "375/375 [==============================] - 3s 8ms/step - loss: 0.0255 - acc: 0.9915 - val_loss: 0.1058 - val_acc: 0.9745\n",
            "Epoch 8/10\n",
            "375/375 [==============================] - 3s 8ms/step - loss: 0.0210 - acc: 0.9933 - val_loss: 0.1033 - val_acc: 0.9780\n",
            "Epoch 9/10\n",
            "375/375 [==============================] - 3s 8ms/step - loss: 0.0165 - acc: 0.9945 - val_loss: 0.1188 - val_acc: 0.9755\n",
            "Epoch 10/10\n",
            "375/375 [==============================] - 3s 8ms/step - loss: 0.0150 - acc: 0.9951 - val_loss: 0.1300 - val_acc: 0.9770\n",
            "\n",
            "[INFO] Total epochs: 10\n",
            "[INFO] Training execution time: 0m 30s\n",
            "\n"
          ]
        }
      ]
    },
    {
      "cell_type": "code",
      "source": [
        "# Get results\n",
        "results_dict = results.history\n",
        "\n",
        "# Display training and validation curves\n",
        "figure = plt.figure(figsize=(14, 6))\n",
        "\n",
        "figure.add_subplot(1, 2, 1)\n",
        "plt.plot(range(1, epochs+1), results_dict['loss'], label='Training loss')\n",
        "plt.plot(range(1, epochs+1), results_dict['val_loss'], '--', label='Validation loss')\n",
        "plt.title('Loss score')\n",
        "plt.xlabel('Epochs')\n",
        "plt.ylabel('Loss')\n",
        "plt.legend()\n",
        "\n",
        "figure.add_subplot(1, 2, 2)\n",
        "plt.plot(range(1, epochs+1), results_dict['acc'], label='Training acc')\n",
        "plt.plot(range(1, epochs+1), results_dict['val_acc'], '--', label='Validation acc')\n",
        "plt.title('Accuracy score')\n",
        "plt.xlabel('Epochs')\n",
        "plt.ylabel('Accuracy')\n",
        "plt.legend()\n",
        "\n",
        "plt.tight_layout()\n",
        "plt.show()"
      ],
      "metadata": {
        "colab": {
          "base_uri": "https://localhost:8080/",
          "height": 441
        },
        "id": "AuXLMESKZzxN",
        "outputId": "03b2177b-02aa-40ab-8d6f-a3529fd6f2ee"
      },
      "execution_count": 56,
      "outputs": [
        {
          "output_type": "display_data",
          "data": {
            "text/plain": [
              "<Figure size 1008x432 with 2 Axes>"
            ],
            "image/png": "[encoded data removed]"
          },
          "metadata": {
            "needs_background": "light"
          }
        }
      ]
    },
    {
      "cell_type": "markdown",
      "source": [
        "In the *Loss score* figure, the training loss continues to decrease with experience, while the validation loss has decreased to a minimum and has begun to increase. This descrived behavior means that the model is overffited. Possible solutions to this are:\n",
        "\n",
        "1. **Model capacity:** decrease the number of layers or units (neurons) per layer.\n",
        "\n",
        "2. **Regularizer:** add weight regularizer like L1, L2.\n",
        "\n",
        "3. **Dropout:** add *dropout* layers with ranges between 0.2 and 0.5.\n",
        "\n",
        "4. **Callback:** regularize learning rate as validation loss plateus by adding a callback when fitting the model.\n",
        "\n",
        "\n",
        "Note that by adding regulizers or dropout layers causes the model to take longer to learn. Because of this, the number of epochs should increase."
      ],
      "metadata": {
        "id": "yv_eAkIdkUQc"
      }
    },
    {
      "cell_type": "markdown",
      "source": [
        "## **Evaluating model**"
      ],
      "metadata": {
        "id": "ly8lu0IJez6A"
      }
    },
    {
      "cell_type": "code",
      "source": [
        "# Evaluates the model\n",
        "loss_val, metrics_vals = model.evaluate(x_test, y_test)\n",
        "print(f'[INFO] Loss value: {loss_val}')\n",
        "print(f'[INFO] Metric values: {metrics_vals}')"
      ],
      "metadata": {
        "colab": {
          "base_uri": "https://localhost:8080/"
        },
        "id": "q8zXMT7SZzza",
        "outputId": "0979887a-4078-42cb-d4f1-9fca9a0dc400"
      },
      "execution_count": 58,
      "outputs": [
        {
          "output_type": "stream",
          "name": "stdout",
          "text": [
            "313/313 [==============================] - 1s 2ms/step - loss: 0.1128 - acc: 0.9776\n",
            "[INFO] Loss value: 0.11284428834915161\n",
            "[INFO] Metric values: 0.9775999784469604\n"
          ]
        }
      ]
    },
    {
      "cell_type": "markdown",
      "source": [
        "### Predictions"
      ],
      "metadata": {
        "id": "XZ5QbrcUf1zL"
      }
    },
    {
      "cell_type": "code",
      "source": [
        "# Get predictions of test observations\n",
        "print('[INFO] Getting predictions...')\n",
        "predictions = model.predict(x_test)\n",
        "\n",
        "\n",
        "\n",
        "# Probability for test observation 0\n",
        "# position of each probability corresponts \n",
        "# to the respective target number\n",
        "print('\\nProbabilities:\\n', predictions[0])\n",
        "\n",
        "# Sum of all prediction of observation 0 \n",
        "# must be 1 (equivalent to 100% of probability)\n",
        "print('\\nSum of predictions:', np.sum(predictions[0]))\n",
        "\n",
        "# Get the position with higher probability (final prediction of model)\n",
        "print('\\nFinal prediction:', np.argmax(predictions[0]))\n",
        "\n",
        "# True value\n",
        "print('\\nActual value:', test_labels[0])"
      ],
      "metadata": {
        "colab": {
          "base_uri": "https://localhost:8080/"
        },
        "id": "fuSTNttYf1OP",
        "outputId": "4155a523-433f-49e0-c8d5-5546ff076c9b"
      },
      "execution_count": 83,
      "outputs": [
        {
          "output_type": "stream",
          "name": "stdout",
          "text": [
            "[INFO] Getting predictions...\n",
            "313/313 [==============================] - 1s 2ms/step\n",
            "\n",
            "Probabilities:\n",
            " [7.7673159e-19 8.3497844e-12 1.1327435e-09 2.3108437e-10 4.1864222e-15\n",
            " 1.0128843e-15 1.5359461e-21 9.9999994e-01 2.1030931e-13 1.8382058e-10]\n",
            "\n",
            "Sum of predictions: 0.99999994\n",
            "\n",
            "Final prediction: 7\n",
            "\n",
            "Actual value: 7\n"
          ]
        }
      ]
    },
    {
      "cell_type": "code",
      "source": [
        "# Grid to plot\n",
        "rows, cols = 1, 7\n",
        "\n",
        "# Random test observations\n",
        "index_list = list(np.random.randint(0, len(test_data), cols))\n",
        "\n",
        "  \n",
        "figure = plt.figure(figsize=(15, 15))\n",
        "for i, index in enumerate(index_list):\n",
        "  # Get the position with higher probability (final prediction of model)\n",
        "  predicted = np.argmax(predictions[index])\n",
        "\n",
        "  figure.add_subplot(rows, cols, i+1)\n",
        "  plt.imshow(test_data[index], 'gray')\n",
        "  plt.title(f'Actual: {test_labels[index]}\\n Predicted:{predicted}')\n",
        "  plt.axis('off')\n",
        "\n",
        "plt.tight_layout()\n",
        "plt.show()"
      ],
      "metadata": {
        "colab": {
          "base_uri": "https://localhost:8080/",
          "height": 204
        },
        "id": "a-EpJLtYgPtv",
        "outputId": "b57b35e0-611e-468f-80c0-3da2b934a390"
      },
      "execution_count": 87,
      "outputs": [
        {
          "output_type": "display_data",
          "data": {
            "text/plain": [
              "<Figure size 1080x1080 with 7 Axes>"
            ],
            "image/png": "[encoded data removed]"
          },
          "metadata": {
            "needs_background": "light"
          }
        }
      ]
    }
  ]
}
